{
 "cells": [
  {
   "cell_type": "markdown",
   "id": "cellular-professional",
   "metadata": {},
   "source": [
    "Importing Libraries"
   ]
  },
  {
   "cell_type": "code",
   "execution_count": 4,
   "id": "breathing-decision",
   "metadata": {},
   "outputs": [],
   "source": [
    "import numpy as np\n",
    "import pandas as pd\n",
    "import matplotlib.pyplot as plt\n",
    "from pandas import DataFrame\n",
    "from sklearn import datasets\n",
    "from sklearn.mixture import GaussianMixture"
   ]
  },
  {
   "cell_type": "markdown",
   "id": "abstract-acting",
   "metadata": {},
   "source": [
    "Loading the iris dataset from the sckit-learn package.\n",
    "Extraction of the first two columns.\n",
    "Display of the graphical representation of the points (use matplotlib)."
   ]
  },
  {
   "cell_type": "code",
   "execution_count": 5,
   "id": "damaged-relations",
   "metadata": {
    "scrolled": true
   },
   "outputs": [
    {
     "data": {
      "image/png": "[encoded data removed]",
      "text/plain": [
       "<Figure size 432x288 with 1 Axes>"
      ]
     },
     "metadata": {
      "needs_background": "light"
     },
     "output_type": "display_data"
    }
   ],
   "source": [
    "# loading the iris data set\n",
    "iris = datasets.load_iris()\n",
    "\n",
    "# select the first 2 columns\n",
    "X = iris.data[:, :2]\n",
    "\n",
    "# transform data into type dataframe\n",
    "d = pd.DataFrame(X)\n",
    "\n",
    "# trace the data\n",
    "plt.scatter(d[0], d[1])\n",
    "plt.show()\n"
   ]
  },
  {
   "cell_type": "code",
   "execution_count": 6,
   "id": "8f65a4e0",
   "metadata": {},
   "outputs": [],
   "source": [
    "# We fit the GMM model for the dataset that expresses\n",
    "# a mixture of 5 Gaussian distributions"
   ]
  },
  {
   "cell_type": "markdown",
   "id": "raising-maldives",
   "metadata": {},
   "source": [
    "Création d'un modèle de mélange de Gaussien avec k = 3.<br>\n",
    "Application of learning (fit method).<br>\n",
    "Classification of points by colors (yellow, red, green).<br>\n",
    "Display images by class (use matplotlib).<br>"
   ]
  },
  {
   "cell_type": "code",
   "execution_count": 7,
   "id": "architectural-inflation",
   "metadata": {},
   "outputs": [
    {
     "data": {
      "image/png": "[encoded data removed]",
      "text/plain": [
       "<Figure size 432x288 with 1 Axes>"
      ]
     },
     "metadata": {
      "needs_background": "light"
     },
     "output_type": "display_data"
    }
   ],
   "source": [
    "gmm = GaussianMixture(n_components = 5)\n",
    "gmm.fit(d)\n",
    "\n",
    "# We assign a label to each sample\n",
    "labels = gmm.predict(d)\n",
    "d['labels']= labels\n",
    "d0 = d[d['labels']== 0]\n",
    "d1 = d[d['labels']== 1]\n",
    "d2 = d[d['labels']== 2]\n",
    "d3 = d[d['labels']== 3]\n",
    "d4 = d[d['labels']== 4]\n",
    "\n",
    "# We plot 5 clusters in the same plot\n",
    "plt.scatter(d0[0], d0[1], c ='g')\n",
    "plt.scatter(d1[0], d1[1], c ='r')\n",
    "plt.scatter(d2[0], d2[1], c ='c')\n",
    "plt.scatter(d3[0], d3[1], c ='m')\n",
    "plt.scatter(d4[0], d4[1], c ='gold')\n",
    "plt.show()\n"
   ]
  },
  {
   "cell_type": "code",
   "execution_count": null,
   "id": "d11ca7cc",
   "metadata": {},
   "outputs": [],
   "source": []
  }
 ],
 "metadata": {
  "kernelspec": {
   "display_name": "Python 3 (ipykernel)",
   "language": "python",
   "name": "python3"
  },
  "language_info": {
   "codemirror_mode": {
    "name": "ipython",
    "version": 3
   },
   "file_extension": ".py",
   "mimetype": "text/x-python",
   "name": "python",
   "nbconvert_exporter": "python",
   "pygments_lexer": "ipython3",
   "version": "3.8.10"
  }
 },
 "nbformat": 4,
 "nbformat_minor": 5
}
